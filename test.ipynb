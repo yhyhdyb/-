{
 "cells": [
  {
   "cell_type": "code",
   "execution_count": 16,
   "metadata": {},
   "outputs": [],
   "source": [
    "import pandas as pd\n",
    "import torch\n",
    "import torch.nn as nn\n",
    "import numpy as np\n",
    "import matplotlib.pyplot as plt\n",
    "import torch_geometric\n",
    "from torch_geometric.data import Data,DataLoader,InMemoryDataset\n",
    "import os\n",
    "from sklearn.model_selection import train_test_split\n",
    "\n",
    "device = torch.device('cuda' if torch.cuda.is_available() else 'cpu')"
   ]
  },
  {
   "cell_type": "code",
   "execution_count": 2,
   "metadata": {},
   "outputs": [],
   "source": [
    "node_csv = pd.read_csv('train_90.csv')\n",
    "edge_csv = pd.read_csv('edge_90.csv')"
   ]
  },
  {
   "cell_type": "code",
   "execution_count": 5,
   "metadata": {},
   "outputs": [],
   "source": [
    "import hashlib\n",
    "def md5_to_int(md5_string):\n",
    "    # 使用 hashlib 计算 MD5 哈希值\n",
    "    md5_hash = hashlib.md5(md5_string.encode()).hexdigest()\n",
    "    # 将哈希值转换为整数（使用 int() 函数）\n",
    "    int_value = int(md5_hash, 16)\n",
    "    return int_value\n"
   ]
  },
  {
   "cell_type": "code",
   "execution_count": 7,
   "metadata": {},
   "outputs": [],
   "source": [
    "geohash_id = node_csv.iloc[:,0]\n",
    "geohash1 = edge_csv.iloc[:,0]\n",
    "geohash2 = edge_csv.iloc[:,1]\n",
    "\n",
    "node_date_id = node_csv.iloc[:,1]\n",
    "edge_date_id = edge_csv.iloc[:,4]\n",
    "# 从节点数据中提取特征，假设特征列从第三列开始（索引2）\n",
    "node_features = torch.FloatTensor(node_csv.iloc[:, 2:].values)\n",
    "\n",
    "# 创建边的索引（两列分别表示连接的节点）Note that edge_index, \n",
    "# i.e. the tensor defining the source and target nodes of all edges\n",
    "# is not a list of index tuples. If you want to write your indices this way\n",
    "#  you should transpose and call contiguous on it before passing them to the data constructor:\n",
    "edge_index = torch.Tensor([\n",
    "    [md5_to_int(geohash1.iloc[i]), md5_to_int(geohash2.iloc[i])]\n",
    "    for i in range(len(geohash1))\n",
    "]).t().contiguous()\n",
    "node_id = torch.Tensor([md5_to_int(geohash_id.iloc[i]) for i in range(len(geohash_id))])\n",
    "# 创建边的特征\n",
    "edge_features = torch.FloatTensor(edge_csv.iloc[:, 2:4].values)\n"
   ]
  },
  {
   "cell_type": "code",
   "execution_count": 8,
   "metadata": {},
   "outputs": [],
   "source": [
    "class config:\n",
    "    learning_rate = 0.001\n",
    "    K = 1 # number of aggregation loop (also means number of GCN layers)\n",
    "    gcn_agg = 'mean' # aggregator function: mean, conv, lstm, pooling\n",
    "    filter_noise = True\n",
    "    seed = 1234\n",
    "    noise_threshold = 1\n",
    "    batch_size = 16"
   ]
  },
  {
   "cell_type": "markdown",
   "metadata": {},
   "source": [
    "GCNConv, CNN, LSTM, SGC, GNN, GAT, GraphSAGE, GIN，Bi-LSTM"
   ]
  },
  {
   "cell_type": "code",
   "execution_count": 22,
   "metadata": {},
   "outputs": [],
   "source": []
  },
  {
   "cell_type": "code",
   "execution_count": 25,
   "metadata": {},
   "outputs": [],
   "source": [
    "class MyDataset(InMemoryDataset):\n",
    "    def __init__(self, root, transform=None, pre_transform=None):\n",
    "        super(MyDataset, self).__init__(root, transform, pre_transform)\n",
    "        self.data, self.slices = torch.load(self.processed_paths[0])\n",
    "\n",
    "    @property\n",
    "    def raw_file_names(self):\n",
    "        # Return a list of raw file names if needed\n",
    "        return []\n",
    "\n",
    "    @property\n",
    "    def processed_file_names(self):\n",
    "        return ['data.pt']\n",
    "\n",
    "    def download(self):\n",
    "        pass\n",
    "\n",
    "    def process(self):\n",
    "        # 创建一个 PyTorch Geometric Data 对象\n",
    "        data = Data(x=node_features, edge_index=edge_index, edge_attr=edge_features)\n",
    "\n",
    "        # 添加目标数据（活跃指数和消费指数），假设它们存储在 nodes_data 中的最后两列\n",
    "        #y (torch.Tensor, optional) – Graph-level or node-level ground-truth labels with arbitrary shape. (default: None)\n",
    "        target = torch.FloatTensor(node_csv.iloc[:, -2:].values)\n",
    "        data.y = target\n",
    "\n",
    "        # 添加时间信息到数据\n",
    "        data.date_ids = node_date_id.values.T # 时间信息作为节点特征的一部分\n",
    "        data.edge_dates = edge_date_id.values.T  # 时间信息作为边特征的一部分\n",
    "        data_list = [data]\n",
    "        # Save the list of Data objects\n",
    "        data, slices = self.collate(data_list)\n",
    "        torch.save((data, slices), self.processed_paths[0])\n",
    "        print(data.num_features)\n",
    "        print(data.num_nodes)\n",
    "        print(data.num_edges)\n"
   ]
  },
  {
   "cell_type": "code",
   "execution_count": 26,
   "metadata": {},
   "outputs": [
    {
     "name": "stdout",
     "output_type": "stream",
     "text": [
      "37\n",
      "102600\n",
      "1048575\n"
     ]
    },
    {
     "name": "stderr",
     "output_type": "stream",
     "text": [
      "Processing...\n",
      "Done!\n",
      "d:\\Anaconda\\Lib\\site-packages\\torch\\utils\\data\\dataset.py:414: UserWarning: Length of split at index 0 is 0. This might result in an empty dataset.\n",
      "  warnings.warn(f\"Length of split at index {i} is 0. \"\n"
     ]
    }
   ],
   "source": [
    "dataset = MyDataset(root='.', transform=None, pre_transform=None)\n",
    "train_size = int(0.8 * len(dataset))\n",
    "test_size = len(dataset) - train_size\n",
    "train_dataset, test_dataset = torch.utils.data.random_split(dataset, [train_size, test_size])"
   ]
  }
 ],
 "metadata": {
  "kernelspec": {
   "display_name": "base",
   "language": "python",
   "name": "python3"
  },
  "language_info": {
   "codemirror_mode": {
    "name": "ipython",
    "version": 3
   },
   "file_extension": ".py",
   "mimetype": "text/x-python",
   "name": "python",
   "nbconvert_exporter": "python",
   "pygments_lexer": "ipython3",
   "version": "3.11.4"
  }
 },
 "nbformat": 4,
 "nbformat_minor": 2
}
